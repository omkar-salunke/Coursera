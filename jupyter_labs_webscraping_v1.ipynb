{
  "nbformat": 4,
  "nbformat_minor": 0,
  "metadata": {
    "kernelspec": {
      "display_name": "Python 3",
      "language": "python",
      "name": "python3"
    },
    "language_info": {
      "codemirror_mode": {
        "name": "ipython",
        "version": 3
      },
      "file_extension": ".py",
      "mimetype": "text/x-python",
      "name": "python",
      "nbconvert_exporter": "python",
      "pygments_lexer": "ipython3",
      "version": "3.8.8"
    },
    "colab": {
      "name": "jupyter-labs-webscraping_v1.ipynb",
      "provenance": [],
      "include_colab_link": true
    }
  },
  "cells": [
    {
      "cell_type": "markdown",
      "metadata": {
        "id": "view-in-github",
        "colab_type": "text"
      },
      "source": [
        "<a href=\"https://colab.research.google.com/github/omkar-salunke/Coursera/blob/main/jupyter_labs_webscraping_v1.ipynb\" target=\"_parent\"><img src=\"https://colab.research.google.com/assets/colab-badge.svg\" alt=\"Open In Colab\"/></a>"
      ]
    },
    {
      "cell_type": "markdown",
      "metadata": {
        "id": "6pg9OCpJjxhQ"
      },
      "source": [
        "<center>\n",
        "    <img src=\"https://gitlab.com/ibm/skills-network/courses/placeholder101/-/raw/master/labs/module%201/images/IDSNlogo.png\" width=\"300\" alt=\"cognitiveclass.ai logo\"  />\n",
        "</center>\n"
      ]
    },
    {
      "cell_type": "markdown",
      "metadata": {
        "id": "X0ahU8-5jxhS"
      },
      "source": [
        "# **Space X  Falcon 9 First Stage Landing Prediction**\n"
      ]
    },
    {
      "cell_type": "markdown",
      "metadata": {
        "id": "oQqk2yobjxhT"
      },
      "source": [
        "## Web scraping Falcon 9 and Falcon Heavy Launches Records from Wikipedia\n"
      ]
    },
    {
      "cell_type": "markdown",
      "metadata": {
        "id": "JB6fZFBLjxhT"
      },
      "source": [
        "Estimated time needed: **40** minutes\n"
      ]
    },
    {
      "cell_type": "markdown",
      "metadata": {
        "id": "V_F19QQMjxhU"
      },
      "source": [
        "In this lab, you will be performing web scraping to collect Falcon 9 historical launch records from a Wikipedia page titled `List of Falcon 9 and Falcon Heavy launches`\n",
        "\n",
        "https://en.wikipedia.org/wiki/List_of_Falcon\\_9\\_and_Falcon_Heavy_launches\n"
      ]
    },
    {
      "cell_type": "markdown",
      "metadata": {
        "id": "fy-0W2D4jxhU"
      },
      "source": [
        "![](https://cf-courses-data.s3.us.cloud-object-storage.appdomain.cloud/IBM-DS0321EN-SkillsNetwork/labs/module\\_1\\_L2/images/Falcon9\\_rocket_family.svg)\n"
      ]
    },
    {
      "cell_type": "markdown",
      "metadata": {
        "id": "6vZIUTDsjxhV"
      },
      "source": [
        "Falcon 9 first stage will land successfully\n"
      ]
    },
    {
      "cell_type": "markdown",
      "metadata": {
        "id": "H4uBV6y2jxhV"
      },
      "source": [
        "![](https://cf-courses-data.s3.us.cloud-object-storage.appdomain.cloud/IBMDeveloperSkillsNetwork-DS0701EN-SkillsNetwork/api/Images/landing\\_1.gif)\n"
      ]
    },
    {
      "cell_type": "markdown",
      "metadata": {
        "id": "ykVu7MVVjxhW"
      },
      "source": [
        "Several examples of an unsuccessful landing are shown here:\n"
      ]
    },
    {
      "cell_type": "markdown",
      "metadata": {
        "id": "dSrN3kPpjxhX"
      },
      "source": [
        "![](https://cf-courses-data.s3.us.cloud-object-storage.appdomain.cloud/IBMDeveloperSkillsNetwork-DS0701EN-SkillsNetwork/api/Images/crash.gif)\n"
      ]
    },
    {
      "cell_type": "markdown",
      "metadata": {
        "id": "1wvkHvF0jxhY"
      },
      "source": [
        "More specifically, the launch records are stored in a HTML table shown below:\n"
      ]
    },
    {
      "cell_type": "markdown",
      "metadata": {
        "id": "4QSzvVn7jxhY"
      },
      "source": [
        "![](https://cf-courses-data.s3.us.cloud-object-storage.appdomain.cloud/IBM-DS0321EN-SkillsNetwork/labs/module\\_1\\_L2/images/falcon9-launches-wiki.png)\n"
      ]
    },
    {
      "cell_type": "markdown",
      "metadata": {
        "id": "-wYdDQjZjxhY"
      },
      "source": [
        "## Objectives\n",
        "\n",
        "Web scrap Falcon 9 launch records with `BeautifulSoup`:\n",
        "\n",
        "*   Extract a Falcon 9 launch records HTML table from Wikipedia\n",
        "*   Parse the table and convert it into a Pandas data frame\n"
      ]
    },
    {
      "cell_type": "markdown",
      "metadata": {
        "id": "W49Xbg1jjxhZ"
      },
      "source": [
        "First let's import required packages for this lab\n"
      ]
    },
    {
      "cell_type": "code",
      "metadata": {
        "colab": {
          "base_uri": "https://localhost:8080/"
        },
        "id": "siUfoicrjxhZ",
        "outputId": "c892b65b-2e9c-4c0d-f9ae-988237773941"
      },
      "source": [
        "!pip3 install beautifulsoup4\n",
        "!pip3 install requests"
      ],
      "execution_count": 1,
      "outputs": [
        {
          "output_type": "stream",
          "text": [
            "Requirement already satisfied: beautifulsoup4 in /usr/local/lib/python3.7/dist-packages (4.6.3)\n",
            "Requirement already satisfied: requests in /usr/local/lib/python3.7/dist-packages (2.23.0)\n",
            "Requirement already satisfied: chardet<4,>=3.0.2 in /usr/local/lib/python3.7/dist-packages (from requests) (3.0.4)\n",
            "Requirement already satisfied: urllib3!=1.25.0,!=1.25.1,<1.26,>=1.21.1 in /usr/local/lib/python3.7/dist-packages (from requests) (1.24.3)\n",
            "Requirement already satisfied: certifi>=2017.4.17 in /usr/local/lib/python3.7/dist-packages (from requests) (2021.5.30)\n",
            "Requirement already satisfied: idna<3,>=2.5 in /usr/local/lib/python3.7/dist-packages (from requests) (2.10)\n"
          ],
          "name": "stdout"
        }
      ]
    },
    {
      "cell_type": "code",
      "metadata": {
        "id": "_yMOQW82jxhZ"
      },
      "source": [
        "import sys\n",
        "\n",
        "import requests\n",
        "from bs4 import BeautifulSoup\n",
        "import re\n",
        "import unicodedata\n",
        "import pandas as pd"
      ],
      "execution_count": 2,
      "outputs": []
    },
    {
      "cell_type": "markdown",
      "metadata": {
        "id": "h5CM71RAjxhZ"
      },
      "source": [
        "and we will provide some helper functions for you to process web scraped HTML table\n"
      ]
    },
    {
      "cell_type": "code",
      "metadata": {
        "id": "U30y0m-xjxha"
      },
      "source": [
        "def date_time(table_cells):\n",
        "    \"\"\"\n",
        "    This function returns the data and time from the HTML  table cell\n",
        "    Input: the  element of a table data cell extracts extra row\n",
        "    \"\"\"\n",
        "    return [data_time.strip() for data_time in list(table_cells.strings)][0:2]\n",
        "\n",
        "def booster_version(table_cells):\n",
        "    \"\"\"\n",
        "    This function returns the booster version from the HTML  table cell \n",
        "    Input: the  element of a table data cell extracts extra row\n",
        "    \"\"\"\n",
        "    out=''.join([booster_version for i,booster_version in enumerate( table_cells.strings) if i%2==0][0:-1])\n",
        "    return out\n",
        "\n",
        "def landing_status(table_cells):\n",
        "    \"\"\"\n",
        "    This function returns the landing status from the HTML table cell \n",
        "    Input: the  element of a table data cell extracts extra row\n",
        "    \"\"\"\n",
        "    out=[i for i in table_cells.strings][0]\n",
        "    return out\n",
        "\n",
        "\n",
        "def get_mass(table_cells):\n",
        "    mass=unicodedata.normalize(\"NFKD\", table_cells.text).strip()\n",
        "    if mass:\n",
        "        mass.find(\"kg\")\n",
        "        new_mass=mass[0:mass.find(\"kg\")+2]\n",
        "    else:\n",
        "        new_mass=0\n",
        "    return new_mass\n",
        "\n",
        "\n",
        "def extract_column_from_header(row):\n",
        "    \"\"\"\n",
        "    This function returns the landing status from the HTML table cell \n",
        "    Input: the  element of a table data cell extracts extra row\n",
        "    \"\"\"\n",
        "    if (row.br):\n",
        "        row.br.extract()\n",
        "    if row.a:\n",
        "        row.a.extract()\n",
        "    if row.sup:\n",
        "        row.sup.extract()\n",
        "        \n",
        "    colunm_name = ' '.join(row.contents)\n",
        "    \n",
        "    # Filter the digit and empty names\n",
        "    if not(colunm_name.strip().isdigit()):\n",
        "        colunm_name = colunm_name.strip()\n",
        "        return colunm_name    \n"
      ],
      "execution_count": 3,
      "outputs": []
    },
    {
      "cell_type": "markdown",
      "metadata": {
        "id": "rSJO0OzEjxha"
      },
      "source": [
        "To keep the lab tasks consistent, you will be asked to scrape the data from a snapshot of the  `List of Falcon 9 and Falcon Heavy launches` Wikipage updated on\n",
        "`9th June 2021`\n"
      ]
    },
    {
      "cell_type": "code",
      "metadata": {
        "id": "HIy2Qjkijxha"
      },
      "source": [
        "static_url = \"https://en.wikipedia.org/w/index.php?title=List_of_Falcon_9_and_Falcon_Heavy_launches&oldid=1027686922\""
      ],
      "execution_count": 4,
      "outputs": []
    },
    {
      "cell_type": "markdown",
      "metadata": {
        "id": "nSp9bv7ujxha"
      },
      "source": [
        "Next, request the HTML page from the above URL and get a `response` object\n"
      ]
    },
    {
      "cell_type": "markdown",
      "metadata": {
        "id": "E7Qonhljjxhb"
      },
      "source": [
        "### TASK 1: Request the Falcon9 Launch Wiki page from its URL\n"
      ]
    },
    {
      "cell_type": "markdown",
      "metadata": {
        "id": "h-NRlUzQjxhb"
      },
      "source": [
        "First, let's perform an HTTP GET method to request the Falcon9 Launch HTML page, as an HTTP response.\n"
      ]
    },
    {
      "cell_type": "code",
      "metadata": {
        "id": "2W5XIIanjxhb"
      },
      "source": [
        "# use requests.get() method with the provided static_url\n",
        "# assign the response to a object\n",
        "d= requests.get(static_url)"
      ],
      "execution_count": 5,
      "outputs": []
    },
    {
      "cell_type": "markdown",
      "metadata": {
        "id": "cv6u4gr7jxhb"
      },
      "source": [
        "Create a `BeautifulSoup` object from the HTML `response`\n"
      ]
    },
    {
      "cell_type": "code",
      "metadata": {
        "id": "KbjciIIljxhb"
      },
      "source": [
        "# Use BeautifulSoup() to create a BeautifulSoup object from a response text content\n",
        "soup = BeautifulSoup(d.content, 'html5lib')"
      ],
      "execution_count": 6,
      "outputs": []
    },
    {
      "cell_type": "markdown",
      "metadata": {
        "id": "6c3a-McUjxhb"
      },
      "source": [
        "Print the page title to verify if the `BeautifulSoup` object was created properly\n"
      ]
    },
    {
      "cell_type": "code",
      "metadata": {
        "colab": {
          "base_uri": "https://localhost:8080/"
        },
        "id": "zYCAbkCTjxhb",
        "outputId": "b563ba91-9b68-4623-d22f-91e7f65a5798"
      },
      "source": [
        "# Use soup.title attribute\n",
        "soup.title"
      ],
      "execution_count": 7,
      "outputs": [
        {
          "output_type": "execute_result",
          "data": {
            "text/plain": [
              "<title>List of Falcon 9 and Falcon Heavy launches - Wikipedia</title>"
            ]
          },
          "metadata": {
            "tags": []
          },
          "execution_count": 7
        }
      ]
    },
    {
      "cell_type": "markdown",
      "metadata": {
        "id": "MvzyPSnBjxhc"
      },
      "source": [
        "### TASK 2: Extract all column/variable names from the HTML table header\n"
      ]
    },
    {
      "cell_type": "markdown",
      "metadata": {
        "id": "pSUA0W3yjxhc"
      },
      "source": [
        "Next, we want to collect all relevant column names from the HTML table header\n"
      ]
    },
    {
      "cell_type": "markdown",
      "metadata": {
        "id": "AMe0YnDJjxhd"
      },
      "source": [
        "Let's try to find all tables on the wiki page first. If you need to refresh your memory about `BeautifulSoup`, please check the external reference link towards the end of this lab\n"
      ]
    },
    {
      "cell_type": "code",
      "metadata": {
        "id": "F4ktuj9Njxhd"
      },
      "source": [
        "# Use the find_all function in the BeautifulSoup object, with element type `table`\n",
        "# Assign the result to a list called `html_tables`\n",
        "html_tables=soup.findAll('table') "
      ],
      "execution_count": 9,
      "outputs": []
    },
    {
      "cell_type": "markdown",
      "metadata": {
        "id": "JpFvv8i8jxhg"
      },
      "source": [
        "Starting from the third table is our target table contains the actual launch records.\n"
      ]
    },
    {
      "cell_type": "code",
      "metadata": {
        "id": "Li4Zl5MPjxhj"
      },
      "source": [
        "# Let's print the third table and check its content\n",
        "first_launch_table = html_tables[2]"
      ],
      "execution_count": 11,
      "outputs": []
    },
    {
      "cell_type": "markdown",
      "metadata": {
        "id": "Jn5pFMAMjxhj"
      },
      "source": [
        "You should able to see the columns names embedded in the table header elements `<th>` as follows:\n"
      ]
    },
    {
      "cell_type": "markdown",
      "metadata": {
        "id": "4uud96Jljxhj"
      },
      "source": [
        "```\n",
        "<tr>\n",
        "<th scope=\"col\">Flight No.\n",
        "</th>\n",
        "<th scope=\"col\">Date and<br/>time (<a href=\"/wiki/Coordinated_Universal_Time\" title=\"Coordinated Universal Time\">UTC</a>)\n",
        "</th>\n",
        "<th scope=\"col\"><a href=\"/wiki/List_of_Falcon_9_first-stage_boosters\" title=\"List of Falcon 9 first-stage boosters\">Version,<br/>Booster</a> <sup class=\"reference\" id=\"cite_ref-booster_11-0\"><a href=\"#cite_note-booster-11\">[b]</a></sup>\n",
        "</th>\n",
        "<th scope=\"col\">Launch site\n",
        "</th>\n",
        "<th scope=\"col\">Payload<sup class=\"reference\" id=\"cite_ref-Dragon_12-0\"><a href=\"#cite_note-Dragon-12\">[c]</a></sup>\n",
        "</th>\n",
        "<th scope=\"col\">Payload mass\n",
        "</th>\n",
        "<th scope=\"col\">Orbit\n",
        "</th>\n",
        "<th scope=\"col\">Customer\n",
        "</th>\n",
        "<th scope=\"col\">Launch<br/>outcome\n",
        "</th>\n",
        "<th scope=\"col\"><a href=\"/wiki/Falcon_9_first-stage_landing_tests\" title=\"Falcon 9 first-stage landing tests\">Booster<br/>landing</a>\n",
        "</th></tr>\n",
        "```\n"
      ]
    },
    {
      "cell_type": "markdown",
      "metadata": {
        "id": "4E0bm2BWjxhk"
      },
      "source": [
        "Next, we just need to iterate through the `<th>` elements and apply the provided `extract_column_from_header()` to extract column name one by one\n"
      ]
    },
    {
      "cell_type": "code",
      "metadata": {
        "id": "tlSRp1zcjxhk"
      },
      "source": [
        "column_names = []\n",
        "\n",
        "# Apply find_all() function with `th` element on first_launch_table\n",
        "# Iterate each th element and apply the provided extract_column_from_header() to get a column name\n",
        "# Append the Non-empty column name (`if name is not None and len(name) > 0`) into a list called column_names\n",
        "do = first_launch_table.findAll('th')"
      ],
      "execution_count": 12,
      "outputs": []
    },
    {
      "cell_type": "code",
      "metadata": {
        "id": "ldoye-9tky49"
      },
      "source": [
        "for x in do:\n",
        "  column_names.append(extract_column_from_header(x))\n",
        "  "
      ],
      "execution_count": 13,
      "outputs": []
    },
    {
      "cell_type": "markdown",
      "metadata": {
        "id": "t4uKmU2hjxhk"
      },
      "source": [
        "Check the extracted column names\n"
      ]
    },
    {
      "cell_type": "code",
      "metadata": {
        "colab": {
          "base_uri": "https://localhost:8080/"
        },
        "id": "Rq_l9onbjxhk",
        "outputId": "bebc35db-54ee-465a-f221-cebb8a8ec1b3"
      },
      "source": [
        "print(column_names)"
      ],
      "execution_count": 14,
      "outputs": [
        {
          "output_type": "stream",
          "text": [
            "['Flight No.', 'Date and time ( )', '', 'Launch site', 'Payload', 'Payload mass', 'Orbit', 'Customer', 'Launch outcome', '', None, None, None, None, None, None, None]\n"
          ],
          "name": "stdout"
        }
      ]
    },
    {
      "cell_type": "markdown",
      "metadata": {
        "id": "uifnJB4vjxhk"
      },
      "source": [
        "## TASK 3: Create a data frame by parsing the launch HTML tables\n"
      ]
    },
    {
      "cell_type": "markdown",
      "metadata": {
        "id": "P0qfXn93jxhk"
      },
      "source": [
        "We will create an empty dictionary with keys from the extracted column names in the previous task. Later, this dictionary will be converted into a Pandas dataframe\n"
      ]
    },
    {
      "cell_type": "code",
      "metadata": {
        "id": "UNIa-_2sjxhk"
      },
      "source": [
        "launch_dict= dict.fromkeys(column_names)\n",
        "\n",
        "# Remove an irrelvant column\n",
        "del launch_dict['Date and time ( )']\n",
        "\n",
        "# Let's initial the launch_dict with each value to be an empty list\n",
        "launch_dict['Flight No.'] = []\n",
        "launch_dict['Launch site'] = []\n",
        "launch_dict['Payload'] = []\n",
        "launch_dict['Payload mass'] = []\n",
        "launch_dict['Orbit'] = []\n",
        "launch_dict['Customer'] = []\n",
        "launch_dict['Launch outcome'] = []\n",
        "# Added some new columns\n",
        "launch_dict['Version Booster']=[]\n",
        "launch_dict['Booster landing']=[]\n",
        "launch_dict['Date']=[]\n",
        "launch_dict['Time']=[]\n",
        "\n",
        "del launch_dict['']\n",
        "for key, value in dict(launch_dict).items():\n",
        "    if value is None:\n",
        "        del launch_dict[key]"
      ],
      "execution_count": 51,
      "outputs": []
    },
    {
      "cell_type": "markdown",
      "metadata": {
        "id": "6tlJCDoRjxhk"
      },
      "source": [
        "Next, we just need to fill up the `launch_dict` with launch records extracted from table rows.\n"
      ]
    },
    {
      "cell_type": "markdown",
      "metadata": {
        "id": "iDwNKtCfjxhl"
      },
      "source": [
        "Usually, HTML tables in Wiki pages are likely to contain unexpected annotations and other types of noises, such as reference links `B0004.1[8]`, missing values `N/A [e]`, inconsistent formatting, etc.\n"
      ]
    },
    {
      "cell_type": "markdown",
      "metadata": {
        "id": "4lgKRf_Gjxhl"
      },
      "source": [
        "To simplify the parsing process, we have provided an incomplete code snippet below to help you to fill up the `launch_dict`. Please complete the following code snippet with TODOs or you can choose to write your own logic to parse all launch tables:\n"
      ]
    },
    {
      "cell_type": "code",
      "metadata": {
        "colab": {
          "base_uri": "https://localhost:8080/"
        },
        "id": "Q-aM31kpjxhl",
        "outputId": "b3d75e04-ae48-4b82-ba1d-ba08e6998f40"
      },
      "source": [
        "extracted_row = 0\n",
        "#Extract each table \n",
        "for table_number,table in enumerate(soup.find_all('table',\"wikitable plainrowheaders collapsible\")):\n",
        "   # get table row \n",
        "    for rows in table.find_all(\"tr\"):\n",
        "        #check to see if first table heading is as number corresponding to launch a number \n",
        "        if rows.th:\n",
        "            if rows.th.string:\n",
        "                flight_number=rows.th.string.strip()\n",
        "                flag=flight_number.isdigit()\n",
        "        else:\n",
        "            flag=False\n",
        "        #get table element \n",
        "        row=rows.find_all('td')\n",
        "        #if it is number save cells in a dictonary \n",
        "        if flag:\n",
        "            extracted_row += 1\n",
        "            # Flight Number value\n",
        "            # TODO: Append the flight_number into launch_dict with key `Flight No.`\n",
        "            \n",
        "            #print(flight_number)\n",
        "            datatimelist=date_time(row[0])\n",
        "            launch_dict[\"Flight No.\"].append(datatimelist)\n",
        "            # print(date_time(row[0]))\n",
        "            \n",
        "            # Date value\n",
        "            # TODO: Append the date into launch_dict with key `Date`\n",
        "            date = datatimelist[0].strip(',')\n",
        "            launch_dict[\"Date\"].append(date)\n",
        "            #print(date)\n",
        "            \n",
        "            # Time value\n",
        "            # TODO: Append the time into launch_dict with key `Time`\n",
        "            time = datatimelist[1]\n",
        "            launch_dict[\"Time\"].append(time)\n",
        "            #print(time)\n",
        "              \n",
        "            # Booster version\n",
        "            # TODO: Append the bv into launch_dict with key `Version Booster`\n",
        "            bv=booster_version(row[1])\n",
        "            if not(bv):\n",
        "                bv=row[1].a.string\n",
        "            # print(bv)\n",
        "            launch_dict[\"Version Booster\"].append(bv)\n",
        "            \n",
        "            # Launch Site\n",
        "            # TODO: Append the bv into launch_dict with key `Launch Site`\n",
        "            launch_site = row[2].a.string\n",
        "            launch_dict[\"Launch site\"].append(launch_site)\n",
        "            #print(launch_site)\n",
        "            \n",
        "            # Payload\n",
        "            # TODO: Append the payload into launch_dict with key `Payload`\n",
        "            payload = row[3].a.string\n",
        "            launch_dict[\"Payload\"].append(payload)\n",
        "            #print(payload)\n",
        "            \n",
        "            # Payload Mass\n",
        "            # TODO: Append the payload_mass into launch_dict with key `Payload mass`\n",
        "            payload_mass = get_mass(row[4])\n",
        "            launch_dict[\"Payload mass\"].append(payload_mass)\n",
        "            #print(payload)\n",
        "            \n",
        "            # Orbit\n",
        "            # TODO: Append the orbit into launch_dict with key `Orbit`\n",
        "            orbit = row[5].a.string\n",
        "            launch_dict[\"Orbit\"].append(orbit)\n",
        "            #print(orbit)\n",
        "            \n",
        "            # Customer\n",
        "            # TODO: Append the customer into launch_dict with key `Customer`\n",
        "            try:\n",
        "              customer = row[6].a.string\n",
        "            except:\n",
        "              customer = 'None'\n",
        "              print(\"nontype occured\")\n",
        "            launch_dict[\"Customer\"].append(customer)\n",
        "\n",
        "            #print(customer)\n",
        "            \n",
        "            # Launch outcome\n",
        "            # TODO: Append the launch_outcome into launch_dict with key `Launch outcome`\n",
        "            launch_outcome = list(row[7].strings)[0]\n",
        "            #print(launch_outcome)\n",
        "            launch_dict[\"Launch outcome\"].append(launch_outcome)\n",
        "            \n",
        "            # Booster landing\n",
        "            # TODO: Append the launch_outcome into launch_dict with key `Booster landing`\n",
        "            booster_landing = landing_status(row[8])\n",
        "            launch_dict[\"Booster landing\"].append(booster_landing)\n",
        "            #print(booster_landing)\n",
        "            "
      ],
      "execution_count": 53,
      "outputs": [
        {
          "output_type": "stream",
          "text": [
            "nontype occured\n"
          ],
          "name": "stdout"
        }
      ]
    },
    {
      "cell_type": "markdown",
      "metadata": {
        "id": "y_7J9kizjxhl"
      },
      "source": [
        "After you have fill in the parsed launch record values into `launch_dict`, you can create a dataframe from it.\n"
      ]
    },
    {
      "cell_type": "code",
      "metadata": {
        "id": "5qhq14U9jxhm"
      },
      "source": [
        "df=pd.DataFrame(launch_dict)"
      ],
      "execution_count": 54,
      "outputs": []
    },
    {
      "cell_type": "code",
      "metadata": {
        "colab": {
          "base_uri": "https://localhost:8080/",
          "height": 408
        },
        "id": "OkRcvw3_oIT_",
        "outputId": "254623bc-14d6-4fbe-859f-d1e59890b7c7"
      },
      "source": [
        "df"
      ],
      "execution_count": 55,
      "outputs": [
        {
          "output_type": "execute_result",
          "data": {
            "text/html": [
              "<div>\n",
              "<style scoped>\n",
              "    .dataframe tbody tr th:only-of-type {\n",
              "        vertical-align: middle;\n",
              "    }\n",
              "\n",
              "    .dataframe tbody tr th {\n",
              "        vertical-align: top;\n",
              "    }\n",
              "\n",
              "    .dataframe thead th {\n",
              "        text-align: right;\n",
              "    }\n",
              "</style>\n",
              "<table border=\"1\" class=\"dataframe\">\n",
              "  <thead>\n",
              "    <tr style=\"text-align: right;\">\n",
              "      <th></th>\n",
              "      <th>Flight No.</th>\n",
              "      <th>Launch site</th>\n",
              "      <th>Payload</th>\n",
              "      <th>Payload mass</th>\n",
              "      <th>Orbit</th>\n",
              "      <th>Customer</th>\n",
              "      <th>Launch outcome</th>\n",
              "      <th>Version Booster</th>\n",
              "      <th>Booster landing</th>\n",
              "      <th>Date</th>\n",
              "      <th>Time</th>\n",
              "    </tr>\n",
              "  </thead>\n",
              "  <tbody>\n",
              "    <tr>\n",
              "      <th>0</th>\n",
              "      <td>[4 June 2010,, 18:45]</td>\n",
              "      <td>CCAFS</td>\n",
              "      <td>Dragon Spacecraft Qualification Unit</td>\n",
              "      <td>0</td>\n",
              "      <td>LEO</td>\n",
              "      <td>SpaceX</td>\n",
              "      <td>Success\\n</td>\n",
              "      <td>F9 v1.0B0003.1</td>\n",
              "      <td>Failure</td>\n",
              "      <td>4 June 2010</td>\n",
              "      <td>18:45</td>\n",
              "    </tr>\n",
              "    <tr>\n",
              "      <th>1</th>\n",
              "      <td>[8 December 2010,, 15:43]</td>\n",
              "      <td>CCAFS</td>\n",
              "      <td>Dragon</td>\n",
              "      <td>0</td>\n",
              "      <td>LEO</td>\n",
              "      <td>NASA</td>\n",
              "      <td>Success</td>\n",
              "      <td>F9 v1.0B0004.1</td>\n",
              "      <td>Failure</td>\n",
              "      <td>8 December 2010</td>\n",
              "      <td>15:43</td>\n",
              "    </tr>\n",
              "    <tr>\n",
              "      <th>2</th>\n",
              "      <td>[22 May 2012,, 07:44]</td>\n",
              "      <td>CCAFS</td>\n",
              "      <td>Dragon</td>\n",
              "      <td>525 kg</td>\n",
              "      <td>LEO</td>\n",
              "      <td>NASA</td>\n",
              "      <td>Success</td>\n",
              "      <td>F9 v1.0B0005.1</td>\n",
              "      <td>No attempt\\n</td>\n",
              "      <td>22 May 2012</td>\n",
              "      <td>07:44</td>\n",
              "    </tr>\n",
              "    <tr>\n",
              "      <th>3</th>\n",
              "      <td>[8 October 2012,, 00:35]</td>\n",
              "      <td>CCAFS</td>\n",
              "      <td>SpaceX CRS-1</td>\n",
              "      <td>4,700 kg</td>\n",
              "      <td>LEO</td>\n",
              "      <td>NASA</td>\n",
              "      <td>Success\\n</td>\n",
              "      <td>F9 v1.0B0006.1</td>\n",
              "      <td>No attempt</td>\n",
              "      <td>8 October 2012</td>\n",
              "      <td>00:35</td>\n",
              "    </tr>\n",
              "    <tr>\n",
              "      <th>4</th>\n",
              "      <td>[1 March 2013,, 15:10]</td>\n",
              "      <td>CCAFS</td>\n",
              "      <td>SpaceX CRS-2</td>\n",
              "      <td>4,877 kg</td>\n",
              "      <td>LEO</td>\n",
              "      <td>NASA</td>\n",
              "      <td>Success\\n</td>\n",
              "      <td>F9 v1.0B0007.1</td>\n",
              "      <td>No attempt\\n</td>\n",
              "      <td>1 March 2013</td>\n",
              "      <td>15:10</td>\n",
              "    </tr>\n",
              "    <tr>\n",
              "      <th>...</th>\n",
              "      <td>...</td>\n",
              "      <td>...</td>\n",
              "      <td>...</td>\n",
              "      <td>...</td>\n",
              "      <td>...</td>\n",
              "      <td>...</td>\n",
              "      <td>...</td>\n",
              "      <td>...</td>\n",
              "      <td>...</td>\n",
              "      <td>...</td>\n",
              "      <td>...</td>\n",
              "    </tr>\n",
              "    <tr>\n",
              "      <th>116</th>\n",
              "      <td>[9 May 2021, 06:42]</td>\n",
              "      <td>CCSFS</td>\n",
              "      <td>Starlink</td>\n",
              "      <td>15,600 kg</td>\n",
              "      <td>LEO</td>\n",
              "      <td>SpaceX</td>\n",
              "      <td>Success\\n</td>\n",
              "      <td>F9 B5B1051.10</td>\n",
              "      <td>Success</td>\n",
              "      <td>9 May 2021</td>\n",
              "      <td>06:42</td>\n",
              "    </tr>\n",
              "    <tr>\n",
              "      <th>117</th>\n",
              "      <td>[15 May 2021, 22:56]</td>\n",
              "      <td>KSC</td>\n",
              "      <td>Starlink</td>\n",
              "      <td>~14,000 kg</td>\n",
              "      <td>LEO</td>\n",
              "      <td>SpaceX</td>\n",
              "      <td>Success\\n</td>\n",
              "      <td>F9 B5B1058.8</td>\n",
              "      <td>Success</td>\n",
              "      <td>15 May 2021</td>\n",
              "      <td>22:56</td>\n",
              "    </tr>\n",
              "    <tr>\n",
              "      <th>118</th>\n",
              "      <td>[26 May 2021, 18:59]</td>\n",
              "      <td>CCSFS</td>\n",
              "      <td>Starlink</td>\n",
              "      <td>15,600 kg</td>\n",
              "      <td>LEO</td>\n",
              "      <td>SpaceX</td>\n",
              "      <td>Success\\n</td>\n",
              "      <td>F9 B5B1063.2</td>\n",
              "      <td>Success</td>\n",
              "      <td>26 May 2021</td>\n",
              "      <td>18:59</td>\n",
              "    </tr>\n",
              "    <tr>\n",
              "      <th>119</th>\n",
              "      <td>[3 June 2021, 17:29]</td>\n",
              "      <td>KSC</td>\n",
              "      <td>SpaceX CRS-22</td>\n",
              "      <td>3,328 kg</td>\n",
              "      <td>LEO</td>\n",
              "      <td>NASA</td>\n",
              "      <td>Success\\n</td>\n",
              "      <td>F9 B5B1067.1</td>\n",
              "      <td>Success</td>\n",
              "      <td>3 June 2021</td>\n",
              "      <td>17:29</td>\n",
              "    </tr>\n",
              "    <tr>\n",
              "      <th>120</th>\n",
              "      <td>[6 June 2021, 04:26]</td>\n",
              "      <td>CCSFS</td>\n",
              "      <td>SXM-8</td>\n",
              "      <td>7,000 kg</td>\n",
              "      <td>GTO</td>\n",
              "      <td>Sirius XM</td>\n",
              "      <td>Success\\n</td>\n",
              "      <td>F9 B5</td>\n",
              "      <td>Success</td>\n",
              "      <td>6 June 2021</td>\n",
              "      <td>04:26</td>\n",
              "    </tr>\n",
              "  </tbody>\n",
              "</table>\n",
              "<p>121 rows × 11 columns</p>\n",
              "</div>"
            ],
            "text/plain": [
              "                    Flight No. Launch site  ...             Date   Time\n",
              "0        [4 June 2010,, 18:45]       CCAFS  ...      4 June 2010  18:45\n",
              "1    [8 December 2010,, 15:43]       CCAFS  ...  8 December 2010  15:43\n",
              "2        [22 May 2012,, 07:44]       CCAFS  ...      22 May 2012  07:44\n",
              "3     [8 October 2012,, 00:35]       CCAFS  ...   8 October 2012  00:35\n",
              "4       [1 March 2013,, 15:10]       CCAFS  ...     1 March 2013  15:10\n",
              "..                         ...         ...  ...              ...    ...\n",
              "116        [9 May 2021, 06:42]       CCSFS  ...       9 May 2021  06:42\n",
              "117       [15 May 2021, 22:56]         KSC  ...      15 May 2021  22:56\n",
              "118       [26 May 2021, 18:59]       CCSFS  ...      26 May 2021  18:59\n",
              "119       [3 June 2021, 17:29]         KSC  ...      3 June 2021  17:29\n",
              "120       [6 June 2021, 04:26]       CCSFS  ...      6 June 2021  04:26\n",
              "\n",
              "[121 rows x 11 columns]"
            ]
          },
          "metadata": {
            "tags": []
          },
          "execution_count": 55
        }
      ]
    },
    {
      "cell_type": "markdown",
      "metadata": {
        "id": "3HKEFrptjxhm"
      },
      "source": [
        "We can now export it to a <b>CSV</b> for the next section, but to make the answers consistent and in case you have difficulties finishing this lab.\n",
        "\n",
        "Following labs will be using a provided dataset to make each lab independent.\n"
      ]
    },
    {
      "cell_type": "markdown",
      "metadata": {
        "id": "x_PNgyjpjxhm"
      },
      "source": [
        "<code>df.to_csv('spacex_web_scraped.csv', index=False)</code>\n"
      ]
    },
    {
      "cell_type": "markdown",
      "metadata": {
        "id": "dCwxA4FFjxhm"
      },
      "source": [
        "## Authors\n"
      ]
    },
    {
      "cell_type": "markdown",
      "metadata": {
        "id": "SBcuqjz8jxhm"
      },
      "source": [
        "<a href=\"https://www.linkedin.com/in/yan-luo-96288783/?utm_medium=Exinfluencer&utm_source=Exinfluencer&utm_content=000026UJ&utm_term=10006555&utm_id=NA-SkillsNetwork-Channel-SkillsNetworkCoursesIBMDS0321ENSkillsNetwork26802033-2021-01-01\">Yan Luo</a>\n"
      ]
    },
    {
      "cell_type": "markdown",
      "metadata": {
        "id": "NFPml2Cojxhm"
      },
      "source": [
        "<a href=\"https://www.linkedin.com/in/nayefaboutayoun/?utm_medium=Exinfluencer&utm_source=Exinfluencer&utm_content=000026UJ&utm_term=10006555&utm_id=NA-SkillsNetwork-Channel-SkillsNetworkCoursesIBMDS0321ENSkillsNetwork26802033-2021-01-01\">Nayef Abou Tayoun</a>\n"
      ]
    },
    {
      "cell_type": "markdown",
      "metadata": {
        "id": "Y2--yoX4jxhm"
      },
      "source": [
        "## Change Log\n"
      ]
    },
    {
      "cell_type": "markdown",
      "metadata": {
        "id": "GCUFw7Kejxhm"
      },
      "source": [
        "| Date (YYYY-MM-DD) | Version | Changed By | Change Description      |\n",
        "| ----------------- | ------- | ---------- | ----------------------- |\n",
        "| 2021-06-09        | 1.0     | Yan Luo    | Tasks updates           |\n",
        "| 2020-11-10        | 1.0     | Nayef      | Created the initial version |\n"
      ]
    },
    {
      "cell_type": "markdown",
      "metadata": {
        "id": "zrsoi754jxhn"
      },
      "source": [
        "Copyright © 2021 IBM Corporation. All rights reserved.\n"
      ]
    }
  ]
}